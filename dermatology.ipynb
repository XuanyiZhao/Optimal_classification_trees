{
 "cells": [
  {
   "cell_type": "code",
   "execution_count": 1,
   "metadata": {},
   "outputs": [
    {
     "name": "stdout",
     "output_type": "stream",
     "text": [
      "Academic license - for non-commercial use only\n"
     ]
    }
   ],
   "source": [
    "from gurobipy import *\n",
    "import pandas as pd\n",
    "import numpy as np\n",
    "import requests\n",
    "from io import StringIO\n",
    "m = Model('mip1')"
   ]
  },
  {
   "cell_type": "markdown",
   "metadata": {},
   "source": [
    "### Data Wrangling"
   ]
  },
  {
   "cell_type": "code",
   "execution_count": 2,
   "metadata": {},
   "outputs": [],
   "source": [
    "url = 'https://archive.ics.uci.edu/ml/machine-learning-databases/dermatology/dermatology.data'\n",
    "names = ('erythema', 'scaling', 'definite borders', 'itching', 'koebner phenomenon','polygonal papules',\n",
    "        'follicular papules', 'oral mucosal involvement', 'knee and elbow involvement', 'scalp involvement',\n",
    "        'family history', 'melanin incontinence', 'eosinophils in the infiltrate', 'PNL infiltrate',\n",
    "        'fibrosis of the papillary dermis', 'exocytosis', 'acanthosis', 'hyperkeratosis', 'parakeratosis',\n",
    "        'clubbing of the rete ridges', 'elongation of the rete ridges', 'thinning of the suprapapillary epidermis',\n",
    "        'spongiform pustule', 'munro microabcess', 'focal hypergranulosis', 'disappearance of the granular layer',\n",
    "        'vacuolisation and damage of basal layer', 'spongiosis', 'saw-tooth appearance of retes', 'follicular horn plug',\n",
    "        'perifollicular parakeratosis', 'inflammatory monoluclear inflitrate', 'band-like infiltrate', 'Age', 'class')\n",
    "remote = requests.get(url).content\n",
    "data_df = pd.read_csv(StringIO(remote.decode('utf-8')), names = names)\n"
   ]
  },
  {
   "cell_type": "code",
   "execution_count": 19,
   "metadata": {},
   "outputs": [
    {
     "data": {
      "text/html": [
       "<div>\n",
       "<style scoped>\n",
       "    .dataframe tbody tr th:only-of-type {\n",
       "        vertical-align: middle;\n",
       "    }\n",
       "\n",
       "    .dataframe tbody tr th {\n",
       "        vertical-align: top;\n",
       "    }\n",
       "\n",
       "    .dataframe thead th {\n",
       "        text-align: right;\n",
       "    }\n",
       "</style>\n",
       "<table border=\"1\" class=\"dataframe\">\n",
       "  <thead>\n",
       "    <tr style=\"text-align: right;\">\n",
       "      <th></th>\n",
       "      <th>erythema</th>\n",
       "      <th>scaling</th>\n",
       "      <th>definite borders</th>\n",
       "      <th>itching</th>\n",
       "      <th>koebner phenomenon</th>\n",
       "      <th>polygonal papules</th>\n",
       "      <th>follicular papules</th>\n",
       "      <th>oral mucosal involvement</th>\n",
       "      <th>knee and elbow involvement</th>\n",
       "      <th>scalp involvement</th>\n",
       "      <th>...</th>\n",
       "      <th>disappearance of the granular layer</th>\n",
       "      <th>vacuolisation and damage of basal layer</th>\n",
       "      <th>spongiosis</th>\n",
       "      <th>saw-tooth appearance of retes</th>\n",
       "      <th>follicular horn plug</th>\n",
       "      <th>perifollicular parakeratosis</th>\n",
       "      <th>inflammatory monoluclear inflitrate</th>\n",
       "      <th>band-like infiltrate</th>\n",
       "      <th>Age</th>\n",
       "      <th>class</th>\n",
       "    </tr>\n",
       "  </thead>\n",
       "  <tbody>\n",
       "    <tr>\n",
       "      <th>0</th>\n",
       "      <td>2</td>\n",
       "      <td>2</td>\n",
       "      <td>0</td>\n",
       "      <td>3</td>\n",
       "      <td>0</td>\n",
       "      <td>0</td>\n",
       "      <td>0</td>\n",
       "      <td>0</td>\n",
       "      <td>1</td>\n",
       "      <td>0</td>\n",
       "      <td>...</td>\n",
       "      <td>0</td>\n",
       "      <td>0</td>\n",
       "      <td>3</td>\n",
       "      <td>0</td>\n",
       "      <td>0</td>\n",
       "      <td>0</td>\n",
       "      <td>1</td>\n",
       "      <td>0</td>\n",
       "      <td>55</td>\n",
       "      <td>2</td>\n",
       "    </tr>\n",
       "    <tr>\n",
       "      <th>1</th>\n",
       "      <td>3</td>\n",
       "      <td>3</td>\n",
       "      <td>3</td>\n",
       "      <td>2</td>\n",
       "      <td>1</td>\n",
       "      <td>0</td>\n",
       "      <td>0</td>\n",
       "      <td>0</td>\n",
       "      <td>1</td>\n",
       "      <td>1</td>\n",
       "      <td>...</td>\n",
       "      <td>0</td>\n",
       "      <td>0</td>\n",
       "      <td>0</td>\n",
       "      <td>0</td>\n",
       "      <td>0</td>\n",
       "      <td>0</td>\n",
       "      <td>1</td>\n",
       "      <td>0</td>\n",
       "      <td>8</td>\n",
       "      <td>1</td>\n",
       "    </tr>\n",
       "    <tr>\n",
       "      <th>2</th>\n",
       "      <td>2</td>\n",
       "      <td>1</td>\n",
       "      <td>2</td>\n",
       "      <td>3</td>\n",
       "      <td>1</td>\n",
       "      <td>3</td>\n",
       "      <td>0</td>\n",
       "      <td>3</td>\n",
       "      <td>0</td>\n",
       "      <td>0</td>\n",
       "      <td>...</td>\n",
       "      <td>0</td>\n",
       "      <td>2</td>\n",
       "      <td>3</td>\n",
       "      <td>2</td>\n",
       "      <td>0</td>\n",
       "      <td>0</td>\n",
       "      <td>2</td>\n",
       "      <td>3</td>\n",
       "      <td>26</td>\n",
       "      <td>3</td>\n",
       "    </tr>\n",
       "    <tr>\n",
       "      <th>3</th>\n",
       "      <td>2</td>\n",
       "      <td>2</td>\n",
       "      <td>2</td>\n",
       "      <td>0</td>\n",
       "      <td>0</td>\n",
       "      <td>0</td>\n",
       "      <td>0</td>\n",
       "      <td>0</td>\n",
       "      <td>3</td>\n",
       "      <td>2</td>\n",
       "      <td>...</td>\n",
       "      <td>3</td>\n",
       "      <td>0</td>\n",
       "      <td>0</td>\n",
       "      <td>0</td>\n",
       "      <td>0</td>\n",
       "      <td>0</td>\n",
       "      <td>3</td>\n",
       "      <td>0</td>\n",
       "      <td>40</td>\n",
       "      <td>1</td>\n",
       "    </tr>\n",
       "    <tr>\n",
       "      <th>4</th>\n",
       "      <td>2</td>\n",
       "      <td>3</td>\n",
       "      <td>2</td>\n",
       "      <td>2</td>\n",
       "      <td>2</td>\n",
       "      <td>2</td>\n",
       "      <td>0</td>\n",
       "      <td>2</td>\n",
       "      <td>0</td>\n",
       "      <td>0</td>\n",
       "      <td>...</td>\n",
       "      <td>2</td>\n",
       "      <td>3</td>\n",
       "      <td>2</td>\n",
       "      <td>3</td>\n",
       "      <td>0</td>\n",
       "      <td>0</td>\n",
       "      <td>2</td>\n",
       "      <td>3</td>\n",
       "      <td>45</td>\n",
       "      <td>3</td>\n",
       "    </tr>\n",
       "  </tbody>\n",
       "</table>\n",
       "<p>5 rows × 35 columns</p>\n",
       "</div>"
      ],
      "text/plain": [
       "   erythema  scaling  definite borders  itching  koebner phenomenon  \\\n",
       "0         2        2                 0        3                   0   \n",
       "1         3        3                 3        2                   1   \n",
       "2         2        1                 2        3                   1   \n",
       "3         2        2                 2        0                   0   \n",
       "4         2        3                 2        2                   2   \n",
       "\n",
       "   polygonal papules  follicular papules  oral mucosal involvement  \\\n",
       "0                  0                   0                         0   \n",
       "1                  0                   0                         0   \n",
       "2                  3                   0                         3   \n",
       "3                  0                   0                         0   \n",
       "4                  2                   0                         2   \n",
       "\n",
       "   knee and elbow involvement  scalp involvement  ...  \\\n",
       "0                           1                  0  ...   \n",
       "1                           1                  1  ...   \n",
       "2                           0                  0  ...   \n",
       "3                           3                  2  ...   \n",
       "4                           0                  0  ...   \n",
       "\n",
       "   disappearance of the granular layer  \\\n",
       "0                                    0   \n",
       "1                                    0   \n",
       "2                                    0   \n",
       "3                                    3   \n",
       "4                                    2   \n",
       "\n",
       "   vacuolisation and damage of basal layer  spongiosis  \\\n",
       "0                                        0           3   \n",
       "1                                        0           0   \n",
       "2                                        2           3   \n",
       "3                                        0           0   \n",
       "4                                        3           2   \n",
       "\n",
       "   saw-tooth appearance of retes  follicular horn plug  \\\n",
       "0                              0                     0   \n",
       "1                              0                     0   \n",
       "2                              2                     0   \n",
       "3                              0                     0   \n",
       "4                              3                     0   \n",
       "\n",
       "   perifollicular parakeratosis  inflammatory monoluclear inflitrate  \\\n",
       "0                             0                                    1   \n",
       "1                             0                                    1   \n",
       "2                             0                                    2   \n",
       "3                             0                                    3   \n",
       "4                             0                                    2   \n",
       "\n",
       "   band-like infiltrate  Age  class  \n",
       "0                     0   55      2  \n",
       "1                     0    8      1  \n",
       "2                     3   26      3  \n",
       "3                     0   40      1  \n",
       "4                     3   45      3  \n",
       "\n",
       "[5 rows x 35 columns]"
      ]
     },
     "execution_count": 19,
     "metadata": {},
     "output_type": "execute_result"
    }
   ],
   "source": [
    "data_df.head()"
   ]
  },
  {
   "cell_type": "code",
   "execution_count": 4,
   "metadata": {},
   "outputs": [],
   "source": [
    "def nullify(x):\n",
    "    if x == '?':\n",
    "        return np.nan\n",
    "    else:\n",
    "        return x"
   ]
  },
  {
   "cell_type": "code",
   "execution_count": 5,
   "metadata": {},
   "outputs": [],
   "source": [
    "data_df = data_df.applymap(nullify)\n",
    "data_df = data_df.dropna(axis = 0,how = 'any').reset_index(drop = True)"
   ]
  },
  {
   "cell_type": "code",
   "execution_count": 16,
   "metadata": {},
   "outputs": [
    {
     "data": {
      "text/html": [
       "<div>\n",
       "<style scoped>\n",
       "    .dataframe tbody tr th:only-of-type {\n",
       "        vertical-align: middle;\n",
       "    }\n",
       "\n",
       "    .dataframe tbody tr th {\n",
       "        vertical-align: top;\n",
       "    }\n",
       "\n",
       "    .dataframe thead th {\n",
       "        text-align: right;\n",
       "    }\n",
       "</style>\n",
       "<table border=\"1\" class=\"dataframe\">\n",
       "  <thead>\n",
       "    <tr style=\"text-align: right;\">\n",
       "      <th></th>\n",
       "      <th>erythema_0</th>\n",
       "      <th>erythema_1</th>\n",
       "      <th>erythema_2</th>\n",
       "      <th>erythema_3</th>\n",
       "      <th>scaling_0</th>\n",
       "      <th>scaling_1</th>\n",
       "      <th>scaling_2</th>\n",
       "      <th>scaling_3</th>\n",
       "      <th>definite borders_0</th>\n",
       "      <th>definite borders_1</th>\n",
       "      <th>...</th>\n",
       "      <th>Age_63</th>\n",
       "      <th>Age_64</th>\n",
       "      <th>Age_65</th>\n",
       "      <th>Age_67</th>\n",
       "      <th>Age_68</th>\n",
       "      <th>Age_7</th>\n",
       "      <th>Age_70</th>\n",
       "      <th>Age_75</th>\n",
       "      <th>Age_8</th>\n",
       "      <th>Age_9</th>\n",
       "    </tr>\n",
       "  </thead>\n",
       "  <tbody>\n",
       "    <tr>\n",
       "      <th>0</th>\n",
       "      <td>0</td>\n",
       "      <td>0</td>\n",
       "      <td>1</td>\n",
       "      <td>0</td>\n",
       "      <td>0</td>\n",
       "      <td>0</td>\n",
       "      <td>1</td>\n",
       "      <td>0</td>\n",
       "      <td>1</td>\n",
       "      <td>0</td>\n",
       "      <td>...</td>\n",
       "      <td>0</td>\n",
       "      <td>0</td>\n",
       "      <td>0</td>\n",
       "      <td>0</td>\n",
       "      <td>0</td>\n",
       "      <td>0</td>\n",
       "      <td>0</td>\n",
       "      <td>0</td>\n",
       "      <td>0</td>\n",
       "      <td>0</td>\n",
       "    </tr>\n",
       "    <tr>\n",
       "      <th>1</th>\n",
       "      <td>0</td>\n",
       "      <td>0</td>\n",
       "      <td>0</td>\n",
       "      <td>1</td>\n",
       "      <td>0</td>\n",
       "      <td>0</td>\n",
       "      <td>0</td>\n",
       "      <td>1</td>\n",
       "      <td>0</td>\n",
       "      <td>0</td>\n",
       "      <td>...</td>\n",
       "      <td>0</td>\n",
       "      <td>0</td>\n",
       "      <td>0</td>\n",
       "      <td>0</td>\n",
       "      <td>0</td>\n",
       "      <td>0</td>\n",
       "      <td>0</td>\n",
       "      <td>0</td>\n",
       "      <td>1</td>\n",
       "      <td>0</td>\n",
       "    </tr>\n",
       "    <tr>\n",
       "      <th>2</th>\n",
       "      <td>0</td>\n",
       "      <td>0</td>\n",
       "      <td>1</td>\n",
       "      <td>0</td>\n",
       "      <td>0</td>\n",
       "      <td>1</td>\n",
       "      <td>0</td>\n",
       "      <td>0</td>\n",
       "      <td>0</td>\n",
       "      <td>0</td>\n",
       "      <td>...</td>\n",
       "      <td>0</td>\n",
       "      <td>0</td>\n",
       "      <td>0</td>\n",
       "      <td>0</td>\n",
       "      <td>0</td>\n",
       "      <td>0</td>\n",
       "      <td>0</td>\n",
       "      <td>0</td>\n",
       "      <td>0</td>\n",
       "      <td>0</td>\n",
       "    </tr>\n",
       "    <tr>\n",
       "      <th>3</th>\n",
       "      <td>0</td>\n",
       "      <td>0</td>\n",
       "      <td>1</td>\n",
       "      <td>0</td>\n",
       "      <td>0</td>\n",
       "      <td>0</td>\n",
       "      <td>1</td>\n",
       "      <td>0</td>\n",
       "      <td>0</td>\n",
       "      <td>0</td>\n",
       "      <td>...</td>\n",
       "      <td>0</td>\n",
       "      <td>0</td>\n",
       "      <td>0</td>\n",
       "      <td>0</td>\n",
       "      <td>0</td>\n",
       "      <td>0</td>\n",
       "      <td>0</td>\n",
       "      <td>0</td>\n",
       "      <td>0</td>\n",
       "      <td>0</td>\n",
       "    </tr>\n",
       "    <tr>\n",
       "      <th>4</th>\n",
       "      <td>0</td>\n",
       "      <td>0</td>\n",
       "      <td>1</td>\n",
       "      <td>0</td>\n",
       "      <td>0</td>\n",
       "      <td>0</td>\n",
       "      <td>0</td>\n",
       "      <td>1</td>\n",
       "      <td>0</td>\n",
       "      <td>0</td>\n",
       "      <td>...</td>\n",
       "      <td>0</td>\n",
       "      <td>0</td>\n",
       "      <td>0</td>\n",
       "      <td>0</td>\n",
       "      <td>0</td>\n",
       "      <td>0</td>\n",
       "      <td>0</td>\n",
       "      <td>0</td>\n",
       "      <td>0</td>\n",
       "      <td>0</td>\n",
       "    </tr>\n",
       "  </tbody>\n",
       "</table>\n",
       "<p>5 rows × 189 columns</p>\n",
       "</div>"
      ],
      "text/plain": [
       "   erythema_0  erythema_1  erythema_2  erythema_3  scaling_0  scaling_1  \\\n",
       "0           0           0           1           0          0          0   \n",
       "1           0           0           0           1          0          0   \n",
       "2           0           0           1           0          0          1   \n",
       "3           0           0           1           0          0          0   \n",
       "4           0           0           1           0          0          0   \n",
       "\n",
       "   scaling_2  scaling_3  definite borders_0  definite borders_1  ...  Age_63  \\\n",
       "0          1          0                   1                   0  ...       0   \n",
       "1          0          1                   0                   0  ...       0   \n",
       "2          0          0                   0                   0  ...       0   \n",
       "3          1          0                   0                   0  ...       0   \n",
       "4          0          1                   0                   0  ...       0   \n",
       "\n",
       "   Age_64  Age_65  Age_67  Age_68  Age_7  Age_70  Age_75  Age_8  Age_9  \n",
       "0       0       0       0       0      0       0       0      0      0  \n",
       "1       0       0       0       0      0       0       0      1      0  \n",
       "2       0       0       0       0      0       0       0      0      0  \n",
       "3       0       0       0       0      0       0       0      0      0  \n",
       "4       0       0       0       0      0       0       0      0      0  \n",
       "\n",
       "[5 rows x 189 columns]"
      ]
     },
     "execution_count": 16,
     "metadata": {},
     "output_type": "execute_result"
    }
   ],
   "source": [
    "classification_X = data_df.drop(columns = ['class'])\n",
    "classification_Y = data_df['class'] - 1\n",
    "\n",
    "classification_X = classification_X.astype(str)\n",
    "classification_X = pd.get_dummies(classification_X)\n",
    "classification_X.head()"
   ]
  },
  {
   "cell_type": "code",
   "execution_count": 7,
   "metadata": {},
   "outputs": [],
   "source": [
    "from sklearn.model_selection import train_test_split\n",
    "X_train_df, X_test_df, Y_train_df, Y_test_df = train_test_split(classification_X, classification_Y, test_size = 0.20)"
   ]
  },
  {
   "cell_type": "code",
   "execution_count": 8,
   "metadata": {},
   "outputs": [],
   "source": [
    "X_train_df = X_train_df.reset_index(drop = True)\n",
    "Y_train_df = Y_train_df.reset_index(drop = True)\n",
    "X_test_df = X_test_df.reset_index(drop = True)\n",
    "Y_test_df = Y_test_df.reset_index(drop = True)\n",
    "\n",
    "X_train = X_train_df.values\n",
    "X_test = X_test_df.values\n",
    "Y_train = Y_train_df.values\n",
    "Y_test = Y_test_df.values\n",
    "\n",
    "rows, cols = X_train.shape"
   ]
  },
  {
   "cell_type": "markdown",
   "metadata": {},
   "source": [
    "### Determine the Depth"
   ]
  },
  {
   "cell_type": "code",
   "execution_count": 9,
   "metadata": {},
   "outputs": [],
   "source": [
    "depth = 2"
   ]
  },
  {
   "cell_type": "markdown",
   "metadata": {},
   "source": [
    "### CART Tree"
   ]
  },
  {
   "cell_type": "code",
   "execution_count": 10,
   "metadata": {},
   "outputs": [
    {
     "data": {
      "text/plain": [
       "DecisionTreeClassifier(class_weight=None, criterion='gini', max_depth=2,\n",
       "            max_features=None, max_leaf_nodes=4, min_impurity_decrease=0.0,\n",
       "            min_impurity_split=None, min_samples_leaf=1,\n",
       "            min_samples_split=2, min_weight_fraction_leaf=0.0,\n",
       "            presort=False, random_state=None, splitter='best')"
      ]
     },
     "execution_count": 10,
     "metadata": {},
     "output_type": "execute_result"
    }
   ],
   "source": [
    "from sklearn import tree\n",
    "clf = tree.DecisionTreeClassifier(max_depth = depth, max_leaf_nodes = 2**depth)\n",
    "clf.fit(X_train_df, Y_train_df)"
   ]
  },
  {
   "cell_type": "code",
   "execution_count": 11,
   "metadata": {},
   "outputs": [],
   "source": [
    "total_nodes = clf.tree_.node_count\n",
    "leaf_nodes = round(total_nodes / 2)\n",
    "branch_nodes = total_nodes // 2"
   ]
  },
  {
   "cell_type": "code",
   "execution_count": 12,
   "metadata": {},
   "outputs": [],
   "source": [
    "left_nodes = clf.tree_.children_left\n",
    "right_nodes = clf.tree_.children_right\n",
    "left_nodes = left_nodes[0:branch_nodes]\n",
    "right_nodes = right_nodes[0:branch_nodes]"
   ]
  },
  {
   "cell_type": "code",
   "execution_count": 13,
   "metadata": {},
   "outputs": [
    {
     "data": {
      "text/plain": [
       "[73, 109, 53]"
      ]
     },
     "execution_count": 13,
     "metadata": {},
     "output_type": "execute_result"
    }
   ],
   "source": [
    "feature = clf.tree_.feature\n",
    "initial_a = []\n",
    "initial_a_tmp = []\n",
    "for i in range(len(feature)):\n",
    "    if feature[i] != -2 and feature[i+1] != -2:\n",
    "        initial_a.append(feature[i])\n",
    "    elif feature[i] != -2 and feature[i+1] == -2:\n",
    "        initial_a_tmp.append(feature[i])\n",
    "    else:\n",
    "        continue\n",
    "initial_a.extend(initial_a_tmp)\n",
    "initial_a"
   ]
  },
  {
   "cell_type": "code",
   "execution_count": 14,
   "metadata": {},
   "outputs": [
    {
     "data": {
      "text/plain": [
       "[0.5, 0.5, 0.5]"
      ]
     },
     "execution_count": 14,
     "metadata": {},
     "output_type": "execute_result"
    }
   ],
   "source": [
    "threshold = clf.tree_.threshold\n",
    "initial_b = []\n",
    "initial_b_tmp = []\n",
    "for i in range(len(threshold)):\n",
    "    if threshold[i] != -2 and threshold[i+1] != -2:\n",
    "        initial_b.append(threshold[i])\n",
    "    elif threshold[i] != -2 and threshold[i+1] == -2:\n",
    "        initial_b_tmp.append(threshold[i])\n",
    "    else:\n",
    "        continue\n",
    "initial_b.extend(initial_b_tmp)\n",
    "initial_b"
   ]
  },
  {
   "cell_type": "code",
   "execution_count": 15,
   "metadata": {},
   "outputs": [
    {
     "data": {
      "text/plain": [
       "0.7777777777777778"
      ]
     },
     "execution_count": 15,
     "metadata": {},
     "output_type": "execute_result"
    }
   ],
   "source": [
    "clf.score(X_test_df, Y_test_df)"
   ]
  },
  {
   "cell_type": "markdown",
   "metadata": {},
   "source": [
    "### OCT"
   ]
  },
  {
   "cell_type": "markdown",
   "metadata": {},
   "source": [
    "### Determine the alpha and K"
   ]
  },
  {
   "cell_type": "code",
   "execution_count": 16,
   "metadata": {},
   "outputs": [],
   "source": [
    "alpha = 0.5\n",
    "K = 6"
   ]
  },
  {
   "cell_type": "code",
   "execution_count": 17,
   "metadata": {},
   "outputs": [
    {
     "data": {
      "text/plain": [
       "array([[0.33333333, 0.33333333, 0.33333333, 0.33333333, 0.33333333,\n",
       "        0.33333333, 0.33333333, 0.33333333, 0.33333333, 0.33333333,\n",
       "        1.        , 0.33333333, 0.5       , 0.33333333, 0.33333333,\n",
       "        0.33333333, 0.33333333, 0.33333333, 0.33333333, 0.33333333,\n",
       "        0.33333333, 0.33333333, 0.33333333, 0.33333333, 0.33333333,\n",
       "        0.33333333, 0.33333333, 0.33333333, 0.33333333, 0.33333333,\n",
       "        0.33333333, 0.33333333, 0.33333333, 0.01333333]])"
      ]
     },
     "execution_count": 17,
     "metadata": {},
     "output_type": "execute_result"
    }
   ],
   "source": [
    "max_diff = np.max(X_train, 0) - np.min(X_train, 0)\n",
    "epsilon = np.ones([1, cols], dtype = int) * max_diff\n",
    "for i in range(cols):\n",
    "    old = 0\n",
    "    for j in range(1, rows):\n",
    "        diff = abs(X_train[j, i] - X_train[old ,i])\n",
    "        old = j\n",
    "        if diff < epsilon[0, i] and diff != 0:\n",
    "            epsilon[0, i] = diff\n",
    "\n",
    "epsilon = abs(epsilon)\n",
    "epsilon"
   ]
  },
  {
   "cell_type": "code",
   "execution_count": 18,
   "metadata": {},
   "outputs": [],
   "source": [
    "max_epsilon = np.max(epsilon)\n",
    "\n",
    "n = rows\n",
    "num_feature = cols"
   ]
  },
  {
   "cell_type": "markdown",
   "metadata": {},
   "source": [
    "### Determine the Y matrix"
   ]
  },
  {
   "cell_type": "code",
   "execution_count": 19,
   "metadata": {},
   "outputs": [
    {
     "data": {
      "text/plain": [
       "array([[-1,  1, -1, -1, -1, -1],\n",
       "       [ 1, -1, -1, -1, -1, -1],\n",
       "       [-1, -1, -1, -1,  1, -1],\n",
       "       ...,\n",
       "       [-1,  1, -1, -1, -1, -1],\n",
       "       [-1, -1, -1,  1, -1, -1],\n",
       "       [ 1, -1, -1, -1, -1, -1]])"
      ]
     },
     "execution_count": 19,
     "metadata": {},
     "output_type": "execute_result"
    }
   ],
   "source": [
    "Y = np.zeros([rows,K], dtype = int) - 1\n",
    "\n",
    "Y[X_train_df.index, Y_train_df.astype(int)] = 1\n",
    "\n",
    "Y"
   ]
  },
  {
   "cell_type": "code",
   "execution_count": 20,
   "metadata": {},
   "outputs": [],
   "source": [
    "l = m.addVars(leaf_nodes, vtype = GRB.BINARY, name = \"l\")\n",
    "\n",
    "z = m.addVars(n, leaf_nodes, vtype = GRB.BINARY, name = \"z\")\n",
    "\n",
    "N_kt = m.addVars(K, leaf_nodes, vtype = GRB.INTEGER, name = \"N_kt\")\n",
    "\n",
    "N_t = m.addVars(leaf_nodes, vtype = GRB.INTEGER, name = \"N_t\")\n",
    "\n",
    "c_kt = m.addVars(K, leaf_nodes, vtype = GRB.BINARY, name = \"c\")\n",
    "\n",
    "L = m.addVars(leaf_nodes, vtype = GRB.INTEGER, name = \"L\")\n",
    "\n",
    "a = m.addVars(branch_nodes, num_feature, vtype = GRB.BINARY, name = 'a')\n",
    "\n",
    "b = m.addVars(branch_nodes ,vtype = GRB.CONTINUOUS, name = \"b\")\n",
    "\n",
    "d = m.addVars(branch_nodes ,vtype = GRB.BINARY, name = \"d\")"
   ]
  },
  {
   "cell_type": "markdown",
   "metadata": {},
   "source": [
    "### Warm Start"
   ]
  },
  {
   "cell_type": "code",
   "execution_count": 21,
   "metadata": {},
   "outputs": [],
   "source": [
    "# warm start using the results of CART algorithm\n",
    "\n",
    "for i in range(branch_nodes):\n",
    "    a[i, initial_a[i]].start = 1\n",
    "    b[i].start = initial_b[i]"
   ]
  },
  {
   "cell_type": "code",
   "execution_count": 22,
   "metadata": {},
   "outputs": [],
   "source": [
    "m.update()"
   ]
  },
  {
   "cell_type": "code",
   "execution_count": 23,
   "metadata": {},
   "outputs": [],
   "source": [
    "m.setObjective(L.sum() + alpha * d.sum(), GRB.MINIMIZE)"
   ]
  },
  {
   "cell_type": "markdown",
   "metadata": {},
   "source": [
    "### OCT Constraints"
   ]
  },
  {
   "cell_type": "code",
   "execution_count": 24,
   "metadata": {},
   "outputs": [],
   "source": [
    "for i in range(branch_nodes):\n",
    "    b[i].setAttr(GRB.Attr.LB, 0)\n",
    "    m.addConstr(b[i] <= d[i])\n",
    "    m.addConstr(a.sum(i, '*') == d[i])\n",
    "    m.addConstr(d[i] == 1)\n",
    "    m.addConstr(l[i] == 1)\n",
    "    \n",
    "for i in range(leaf_nodes):\n",
    "    m.addConstr(L[i] >= 0)\n",
    "    m.addConstr(N_t[i] == z.sum('*', i))\n",
    "    m.addConstr(l[i] == c_kt.sum('*', i))\n",
    "    m.addConstr(z.sum('*', i) >= l[i])\n",
    "    for j in range(K):\n",
    "        m.addConstr(L[i] >= N_t[i] - N_kt[j,i] - n * (1 - c_kt[j,i]))\n",
    "        m.addConstr(L[i] <= N_t[i] - N_kt[j,i] + n * c_kt[j,i])\n",
    "        m.addConstr(N_kt[j,i] == 1/2 * sum(z.select('*', i) * (Y[:,j] + 1)))\n",
    "\n",
    "for i in range(n):\n",
    "    m.addConstr(z.sum(i, '*') == 1)\n",
    "    \n",
    "for i in range (leaf_nodes):\n",
    "    for j in range(n):\n",
    "        m.addConstr(z[j,i] <= l[i])\n",
    "\n",
    "all_branch_nodes = list(reversed(range(branch_nodes)))\n",
    "depth_dict = {}\n",
    "for i in range(depth):\n",
    "    depth_dict[i] = sorted(all_branch_nodes[-2**i:])\n",
    "    for j in range(2**i):\n",
    "        all_branch_nodes.pop()\n",
    "\n",
    "all_leaf_nodes = list(range(leaf_nodes))\n",
    "branch_dict = {}\n",
    "for i in range(branch_nodes):\n",
    "    for k in range(depth):\n",
    "        if i in depth_dict[k]:\n",
    "            floor_len = len(depth_dict[k])\n",
    "            step = 2**depth // floor_len\n",
    "            sliced_leaf = [all_leaf_nodes[i:i+step] for i in range(0, 2**depth, step)]\n",
    "            idx = depth_dict[k].index(i)\n",
    "            branch_dict[i] = sliced_leaf[idx]\n",
    "        else:\n",
    "            continue\n",
    "            \n",
    "for j in range(n):\n",
    "    for i in range(leaf_nodes):\n",
    "        for k in range(branch_nodes):\n",
    "            if i in branch_dict[k]:\n",
    "                length = len(branch_dict[k])\n",
    "                idx = branch_dict[k].index(i)\n",
    "                if idx+1 <= length//2:\n",
    "                    m.addConstr(sum(a.select(k, '*') * (X_train[j,:] + epsilon[0,:])) <= b[k] + (1 + max_epsilon) * (1 - z[j,i]))\n",
    "                elif idx+1 > length//2:\n",
    "                    m.addConstr(sum(a.select(k, '*') * X_train[j,:]) >= b[k] - (1 - z[j,i]))\n",
    "            else:\n",
    "                continue"
   ]
  },
  {
   "cell_type": "code",
   "execution_count": null,
   "metadata": {},
   "outputs": [
    {
     "name": "stdout",
     "output_type": "stream",
     "text": [
      "Optimize a model with 3818 rows, 1312 columns and 66489 nonzeros\n",
      "Variable types: 3 continuous, 1309 integer (1277 binary)\n",
      "Coefficient statistics:\n",
      "  Matrix range     [1e-02, 3e+02]\n",
      "  Objective range  [5e-01, 1e+00]\n",
      "  Bounds range     [1e+00, 1e+00]\n",
      "  RHS range        [1e+00, 3e+02]\n",
      "Presolved: 2944 rows, 1306 columns, 62545 nonzeros\n",
      "\n",
      "Continuing optimization...\n",
      "\n"
     ]
    }
   ],
   "source": [
    "m.optimize()"
   ]
  },
  {
   "cell_type": "code",
   "execution_count": null,
   "metadata": {},
   "outputs": [],
   "source": [
    "for v in m.getVars():\n",
    "    print(v.varName, v.x)"
   ]
  },
  {
   "cell_type": "code",
   "execution_count": null,
   "metadata": {},
   "outputs": [],
   "source": [
    "print('Obj:', m.objVal)"
   ]
  },
  {
   "cell_type": "markdown",
   "metadata": {},
   "source": [
    "### Obtain the Tree Structure"
   ]
  },
  {
   "cell_type": "code",
   "execution_count": null,
   "metadata": {},
   "outputs": [],
   "source": [
    "# Obtain the coefficients of a and b\n",
    "coff_a = np.zeros([branch_nodes, num_feature], dtype = int)\n",
    "# coff_b = np.zeros(branch_nodes, dtype = int)\n",
    "coff_b = np.zeros(branch_nodes)\n",
    "\n",
    "for i in range(branch_nodes):\n",
    "    tmp1 = m.getVarByName('b' + '[' + str(i) + ']')\n",
    "#     coff_b[i] = int(tmp1.x)\n",
    "    coff_b[i] = tmp1.x\n",
    "    for j in range(num_feature):\n",
    "        tmp2 = m.getVarByName('a' + '[' + str(i) + ',' + str (j) + ']')\n",
    "        coff_a[i,j] = int(tmp2.x)\n",
    "\n"
   ]
  },
  {
   "cell_type": "code",
   "execution_count": 29,
   "metadata": {},
   "outputs": [],
   "source": [
    "# Obtain the labels of leaf nodes\n",
    "labels = np.zeros(leaf_nodes, dtype = int) - 1\n",
    "coff_c = np.zeros([K, leaf_nodes], dtype = int)\n",
    "\n",
    "for i in range(K):\n",
    "    for j in range(leaf_nodes):\n",
    "        tmp3 = m.getVarByName('c' + '[' + str(i) + ',' + str (j) + ']')\n",
    "        coff_c[i,j] = int(tmp3.x)\n",
    "\n",
    "k_idx, t_idx = np.where(coff_c == 1)\n",
    "# for i in range(leaf_nodes):\n",
    "for i in range(len(k_idx)):\n",
    "    labels[t_idx[i]] = k_idx[i]"
   ]
  },
  {
   "cell_type": "markdown",
   "metadata": {},
   "source": [
    "### Test Data"
   ]
  },
  {
   "cell_type": "code",
   "execution_count": 30,
   "metadata": {},
   "outputs": [],
   "source": [
    "t_rows, t_cols = X_test.shape"
   ]
  },
  {
   "cell_type": "code",
   "execution_count": 31,
   "metadata": {},
   "outputs": [],
   "source": [
    "tmp = np.zeros([t_rows, 1], dtype = int)\n",
    "Y_predict = np.hstack((np.reshape(Y_test_df.values, (t_rows, 1)), tmp))"
   ]
  },
  {
   "cell_type": "code",
   "execution_count": 32,
   "metadata": {},
   "outputs": [],
   "source": [
    "num_nodes = 0\n",
    "for i in range(branch_nodes): \n",
    "    tmp4 = m.getVarByName('d' + '[' + str(i) + ']')\n",
    "    num_nodes += int(tmp4.x)"
   ]
  },
  {
   "cell_type": "code",
   "execution_count": 33,
   "metadata": {},
   "outputs": [],
   "source": [
    "init = np.array([], dtype = int).reshape(0, num_feature)\n",
    "nodes = {}\n",
    "for i in range(num_nodes * 2):\n",
    "    nodes[i] = init\n",
    "\n",
    "# split\n",
    "for i in range(t_rows):\n",
    "    if np.dot(coff_a[0,:], np.transpose(X_test[i,:])) < coff_b[0]:\n",
    "        nodes[0] = np.vstack([X_test[i,:], nodes[0]])\n",
    "        if np.dot(coff_a[1,:], np.transpose(X_test[i,:])) < coff_b[1]:\n",
    "            nodes[2] = np.vstack([X_test[i,:], nodes[2]])\n",
    "            Y_predict[i,1] = labels[0]\n",
    "            \n",
    "        elif np.dot(coff_a[1,:], np.transpose(X_test[i,:])) >= coff_b[1]:\n",
    "            nodes[3] = np.vstack([X_test[i,:], nodes[3]])\n",
    "            Y_predict[i,1] = labels[1]\n",
    "            \n",
    "    elif np.dot(coff_a[0,:], np.transpose(X_test[i,:])) >= coff_b[0]:\n",
    "        nodes[1] = np.vstack([X_test[i,:], nodes[1]])\n",
    "        if np.dot(coff_a[2,:], np.transpose(X_test[i,:])) < coff_b[2]:\n",
    "            nodes[4] = np.vstack([X_test[i,:], nodes[4]])\n",
    "            Y_predict[i,1] = labels[2]\n",
    "            \n",
    "        elif np.dot(coff_a[2,:], np.transpose(X_test[i,:])) >= coff_b[2]:\n",
    "            nodes[5] = np.vstack([X_test[i,:], nodes[5]])\n",
    "            Y_predict[i,1] = labels[3]\n",
    "\n"
   ]
  },
  {
   "cell_type": "markdown",
   "metadata": {},
   "source": [
    "### Test Accuracy"
   ]
  },
  {
   "cell_type": "code",
   "execution_count": 34,
   "metadata": {},
   "outputs": [
    {
     "data": {
      "text/plain": [
       "0.9"
      ]
     },
     "execution_count": 34,
     "metadata": {},
     "output_type": "execute_result"
    }
   ],
   "source": [
    "1 - sum(np.minimum(abs(Y_predict[:,1] - Y_predict[:,0]), 1)) / t_rows"
   ]
  },
  {
   "cell_type": "code",
   "execution_count": null,
   "metadata": {},
   "outputs": [],
   "source": []
  },
  {
   "cell_type": "code",
   "execution_count": null,
   "metadata": {},
   "outputs": [],
   "source": []
  }
 ],
 "metadata": {
  "kernelspec": {
   "display_name": "Python 3",
   "language": "python",
   "name": "python3"
  },
  "language_info": {
   "codemirror_mode": {
    "name": "ipython",
    "version": 3
   },
   "file_extension": ".py",
   "mimetype": "text/x-python",
   "name": "python",
   "nbconvert_exporter": "python",
   "pygments_lexer": "ipython3",
   "version": "3.7.3"
  }
 },
 "nbformat": 4,
 "nbformat_minor": 2
}
